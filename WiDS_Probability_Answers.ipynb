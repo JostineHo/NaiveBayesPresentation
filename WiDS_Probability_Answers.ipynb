{
 "cells": [
  {
   "cell_type": "markdown",
   "metadata": {},
   "source": [
    "# WiDS Probability and Naive Bayes - Probability Exercises"
   ]
  },
  {
   "cell_type": "markdown",
   "metadata": {},
   "source": [
    "## Import Libraries"
   ]
  },
  {
   "cell_type": "code",
   "execution_count": null,
   "metadata": {
    "collapsed": true
   },
   "outputs": [],
   "source": [
    "from __future__ import division     # Make the division operation behave\n",
    "import math                         # Get access to math functions that can help with probability calculations"
   ]
  },
  {
   "cell_type": "markdown",
   "metadata": {},
   "source": [
    "## Basic Probability Calculations"
   ]
  },
  {
   "cell_type": "markdown",
   "metadata": {},
   "source": [
    "Calculate the answers to these basic probability problems using operation methods in Python.\n",
    "\n",
    "#### Tip: use round() function and string formatting to help with tidying up long float results."
   ]
  },
  {
   "cell_type": "markdown",
   "metadata": {},
   "source": [
    "Q1. What is the likelihood of rolling a 2 *or* a 3 on a fair six-sided dice? "
   ]
  },
  {
   "cell_type": "code",
   "execution_count": null,
   "metadata": {
    "collapsed": false
   },
   "outputs": [],
   "source": [
    "# The number of favorable outcomes is 2, the number of possible outcomes is 6\n",
    "\n",
    "print \"The probability of rolling a 2 or a 3 on 6-sided dice is:\", round(2/6, 2)  # using round function to get 2 dec pl"
   ]
  },
  {
   "cell_type": "markdown",
   "metadata": {},
   "source": [
    "Q2. What is the probability of getting a ham sandwich, when randomly selecting from a platter that has 5 turkey, 3 vegetarian, 4 beef, 2 ham, and 5 chicken?"
   ]
  },
  {
   "cell_type": "code",
   "execution_count": null,
   "metadata": {
    "collapsed": false
   },
   "outputs": [],
   "source": [
    "total_outcomes = 5 + 3 + 4 + 2 + 5  # all of the sandwich possibilities\n",
    "favorable_outcomes = 2              # all of the ham handwich possibilities   \n",
    "ham_prob = favorable_outcomes / total_outcomes\n",
    "print \"Probability of getting a ham sandwich is:\", \"%.2f\" %ham_prob  # using string formatting to get 2 decimal place float\n"
   ]
  },
  {
   "cell_type": "markdown",
   "metadata": {},
   "source": [
    "Q3. How likely is it that you will get both heads on a fair coin flip AND an even number on a fair six-sided dice?"
   ]
  },
  {
   "cell_type": "code",
   "execution_count": null,
   "metadata": {
    "collapsed": false
   },
   "outputs": [],
   "source": [
    "prob_of_H = 1/2     # 1 favorable outcome (Heads) over 2 Total outcomes (Heads and Tails) gives 1/2\n",
    "prob_of_even = 1/2  # Even dice roll options are 2,4,6. Total options 1,2,3,4,5,6. This gives 3/6, fraction reduces to 1/2\n",
    "\n",
    "prob_of_H_and_even = prob_of_H * prob_of_even    # Assumes that these probabilities are independent.\n",
    "print \"The probability of getting both 'Heads' and an even number is:\", \"{:.0%}\".format(prob_of_H_and_even)\n",
    "                                                                    # using built-in format method to get this as a percentage"
   ]
  },
  {
   "cell_type": "markdown",
   "metadata": {},
   "source": [
    "Q4. Aliens come down to earth and start abducting people, but not entirely randomly. Women have a 70% chance of being beamed up, and people over the age of 30 have a 45% likelihood. Given your gender and age, how likely is it that you will be transported to the inside of an alien ship?"
   ]
  },
  {
   "cell_type": "code",
   "execution_count": null,
   "metadata": {
    "collapsed": false
   },
   "outputs": [],
   "source": [
    "# Your answer will vary, depending on your age and gender charactistics. Below answer assumes female aged over 30.\n",
    "\n",
    "prob_of_beaming = 0.7 * 0.45   # Assumes independence\n",
    "print \"The probability of me being beamed up to the alien ship is:\", \"{:.0%}\".format(prob_of_beaming)"
   ]
  },
  {
   "cell_type": "markdown",
   "metadata": {},
   "source": [
    "Q5. Work out the probability of getting a score of greater than 75 on a test using the data shown in the table below:"
   ]
  },
  {
   "cell_type": "code",
   "execution_count": null,
   "metadata": {
    "collapsed": false
   },
   "outputs": [],
   "source": [
    "#Run Me\n",
    "import numpy as np\n",
    "import pandas as pd\n",
    "\n",
    "df = pd.DataFrame({'Count' : [2,2,10,8,6,4,1], 'Score': [50,65,70,75,85,90,95]})\n",
    "df.index = df['Score']\n",
    "df"
   ]
  },
  {
   "cell_type": "code",
   "execution_count": null,
   "metadata": {
    "collapsed": false
   },
   "outputs": [],
   "source": [
    "# Can solve this problem visually by manually observing and adding together the counts for the scores that fit the criteria \n",
    "# in the dataframe as follows:\n",
    "\n",
    "greater_than_75 = 6 + 4 + 1\n",
    "total = 2 + 2 + 10 + 8 + 6 + 4 + 1 \n",
    "prob_above_75 = greater_than_75 / total\n",
    "\n",
    "# Or we can use the dataframe structure that we already have to get this information. Below is one approach for this:\n",
    "\n",
    "df2 = df.iloc[4:]                                  # can use pandas iloc get dataframe rows that we know have scores of > 75 \n",
    "greater_than_75 = df2[\"Count\"].sum()               # pandas sum function used to get the total count of scores > 75 \n",
    "total = df[\"Count\"].sum()                          # pandas sum on the counts in overall dataframe to get the sample space\n",
    "prob_above_75 = greater_than_75 / total\n",
    "\n",
    "print \"The probability of getting a score higher than 75 is:\", \"{:.0%}\".format(prob_above_75)"
   ]
  },
  {
   "cell_type": "markdown",
   "metadata": {},
   "source": [
    "## Permutations and Combinations"
   ]
  },
  {
   "cell_type": "markdown",
   "metadata": {},
   "source": [
    "Calculate the answers to these problems, selecting the correct approach of either permutation or combination in Python.\n",
    "\n",
    "#### Tip: use math.factorial() function to help with calculations."
   ]
  },
  {
   "cell_type": "code",
   "execution_count": null,
   "metadata": {
    "collapsed": false
   },
   "outputs": [],
   "source": [
    "mf = math.factorial    # Assign an alias to be more efficient in performing calculations\n",
    "\n",
    "def find_perm(N, r):\n",
    "    \"\"\"Perform permutation calculation\"\"\"\n",
    "    return int(mf(N) / mf(N - r))\n",
    "\n",
    "def find_comb(N, r):\n",
    "    \"\"\"Perform combination calculation\"\"\"\n",
    "    return int(mf(N) / (mf(r) * mf(N - r)))"
   ]
  },
  {
   "cell_type": "markdown",
   "metadata": {
    "collapsed": true
   },
   "source": [
    "Q6. How many different ways could you arrange a bouquet of 12 different flowers?"
   ]
  },
  {
   "cell_type": "code",
   "execution_count": null,
   "metadata": {
    "collapsed": false
   },
   "outputs": [],
   "source": [
    "# Beacuse we're talking about 'ways of arranging things', we know that this is a question involving permutations\n",
    "\n",
    "# We can manually perform calculation, using what we know about permutations:\n",
    "flower_arr = 12 * 11 * 10 * 9 * 8 * 7 * 6 * 5 * 4 * 3 * 2 * 1\n",
    "\n",
    "# Or we can shorten the calculation, using the formula for permutations, with math.factorial():\n",
    "flower_arr = math.factorial(12) / math.factorial(12-12)\n",
    "\n",
    "# Or we can shorten even more using the 'mf' function alias:\n",
    "flower_arr = mf(12) / mf(0)\n",
    "\n",
    "# Lastly, we could use our newly created 'find_perm' function:\n",
    "flower_arr = find_perm(12,12)\n",
    "\n",
    "print \"There are\", flower_arr , \"ways to arrange 12 flowers\"\n"
   ]
  },
  {
   "cell_type": "markdown",
   "metadata": {},
   "source": [
    "Q7. Using a normal deck of 52 playing cards, how many different options are there for getting 6 cards that are Spades?"
   ]
  },
  {
   "cell_type": "code",
   "execution_count": null,
   "metadata": {
    "collapsed": false
   },
   "outputs": [],
   "source": [
    "# The question hasn't indicated that sequence matters, so we can be confident that combinations is the right approach\n",
    "# Using our formula for combinations, we have 13 total spades to choose from, so 13 is our 'N' value. \n",
    "# We are choosing 6 spades, so 6 is our 'r' value. This results in C(13,6), aka the combination of 13 choose 6.\n",
    "\n",
    "# Calculated using 'mf' as alias for 'math.factorial'\n",
    "six_spades = mf(13) / (mf(6) * mf(13 - 6))   \n",
    "\n",
    "# Calculated using our 'find_comb' function\n",
    "six_spades = find_comb(13,6)\n",
    "\n",
    "print \"There are\", six_spades, \"different combinations of 6 spades in a 52-card deck of playing cards\""
   ]
  },
  {
   "cell_type": "markdown",
   "metadata": {},
   "source": [
    "Q8. You are playing a guessing game (death match). Your have a score of 3 points, your opponent has 5. You have both played your last official turn, but due to misconduct by the other player, you have been awarded a bonus six turns before the game ends, giving you the opportunity for a comeback. If your total score is more than 5 by the end of your bonus turns, you win the game.\n",
    "\n",
    "Assuming there is no penalty for a wrong answer, and that you get 1 point per correct answer, how many possible groups of right answers are there that will lead you to victory and save your life?"
   ]
  },
  {
   "cell_type": "code",
   "execution_count": null,
   "metadata": {
    "collapsed": false
   },
   "outputs": [],
   "source": [
    "# Order doesn't matter, only the number of ways that to get 3 or more right answers within 6 turns. Thus we use combinations.\n",
    "# To get all combinations of 3 or more right answers, we would need to get the sum of C(6,3), C(6,4), C(6,5), C(6,6).\n",
    "\n",
    "three_or_more_points = find_comb(6,3) + find_comb(6,4) + find_comb(6,5) + find_comb(6,6)\n",
    "\n",
    "print \"There are\", three_or_more_points, \"different combinations of 3 or more right answers out of 6 bonus questions.\""
   ]
  },
  {
   "cell_type": "markdown",
   "metadata": {},
   "source": [
    "Q9. Martha, Mary, Monkey, and Mozilla all went together to get a slice of cake from the bakery downtown. Mary and Mozilla like chocolate the best, whereas Martha and Monkey hate chocolate and would never choose it. There is only one piece of chocolate cake left. \n",
    "\n",
    "If Mozilla doesn't get chocolate, he will have a meltdown. What is the total number of ways that the four friends can queue at the bakery that won't result in Mozilla crashing through a stack of pastries?"
   ]
  },
  {
   "cell_type": "code",
   "execution_count": null,
   "metadata": {
    "collapsed": false
   },
   "outputs": [],
   "source": [
    "# Since order matters in this question, we would use the concept of permutations to answer it.\n",
    "# We don't need to consider at every possible arrangement, just the ones that put Mozilla in front of Mary\n",
    "\n",
    "# Option 1: Mozilla is 1st in queue, all permutations of others for 2nd - 4th in queue positions result in no tantrum.\n",
    "first_in_queue = 1 * 3 * 2 * 1\n",
    "\n",
    "# Option 2: Mozilla is 2nd in queue. Mary has to be 3rd or 4th in order to have no tantrum. Which requires that one of \n",
    "# Martha and Monkey is 1st in queue, the other is either 3rd or 4th (we don't care which).\n",
    "second_in_queue = 2 * 1 * 2 * 1\n",
    "\n",
    "# Option 3: Mozilla is 3rd in queue. This would require that Mary is 4th in order to have no tantrum. We are agnostic as to \n",
    "# what order the other two appear in in 1st and 2nd positions.\n",
    "third_in_queue = 2 * 1 * 1 * 1\n",
    "\n",
    "# Option 4: Mozilla is 4th in queue. As this would always put Mozilla after Mary, there are 0 ways this results in no tantrum.\n",
    "fourth_in_queue = 0\n",
    "\n",
    "no_tantrums = first_in_queue + second_in_queue + third_in_queue + fourth_in_queue\n",
    "\n",
    "print \"There are\", no_tantrums, \"ways of queueing that do not result in Mozilla having a tantrum at the bakery.\""
   ]
  },
  {
   "cell_type": "markdown",
   "metadata": {},
   "source": [
    "Q10. You have 5 Red cups, 5 Green cups and 5 Blue cups. How many ways can you get 2 cups that have the same color, with another 2 cups that share a color also (but a different color than the first 2 cups)?\n"
   ]
  },
  {
   "cell_type": "code",
   "execution_count": null,
   "metadata": {
    "collapsed": false
   },
   "outputs": [],
   "source": [
    "# This is a combination question, since order doesn't matter, we're just examining different ways to group things.\n",
    "# We have 3 different colors, so we can get 3 diff color combinations when choosing 2 colors: RG, RB, GB\n",
    "num_color_comb = find_comb(3,2)\n",
    "\n",
    "# Because the number of cups for each color is the same (ie 5), we can calculate the possible combinations for 1 instance of \n",
    "# a color combination e.g. C(5,2) for each color within the combo: C(5,2)  \n",
    "color_instance = find_comb(5,2)\n",
    "\n",
    "# Given one pair of colors, the number of possibile combinations of cups is C(5,2) * C(5,2).\n",
    "# To see that multiplication is the correct choice, fix 5 cups of one color, and count how \n",
    "# many ways you pick 5 cups of a different color to finish off the choice of choosing 10 cups.\n",
    "ways_of_choosing_4_appropriate_cups = color_instance * color_instance\n",
    "\n",
    "# Multiply the 3 ways of picking the color combinations to get our result for all possible color combinations\n",
    "print \"There are\", num_color_comb * ways_of_choosing_4_appropriate_cups , \"ways of getting 2 cups of one color and 2 cups of a different color.\""
   ]
  },
  {
   "cell_type": "markdown",
   "metadata": {},
   "source": [
    "## Dependence and Independence"
   ]
  },
  {
   "cell_type": "markdown",
   "metadata": {},
   "source": [
    "Calculate the answers to these problems in Python, identifying whether the events are dependent or independent. "
   ]
  },
  {
   "cell_type": "markdown",
   "metadata": {},
   "source": [
    "Q11. You have 41 Black stones and 40 White stones. What's the probability of 7 randomly selected stones all being White (assuming the stones are not replaced)? "
   ]
  },
  {
   "cell_type": "code",
   "execution_count": null,
   "metadata": {
    "collapsed": false
   },
   "outputs": [],
   "source": [
    "# Since the stones are not replacesd, the probability of each stone draw is dependent on the outcome of the last one.\n",
    "# For each stone draw, we take it as given that the last stone was a white stone, and thus the total # white stones available\n",
    "# is reduced for each draw instead of staying the same (which it would if we had it as given that we just chose a black stone).\n",
    "\n",
    "prob_seven_white = 40/81 * 39/80 * 38/79 * 37/78 * 36/77 * 35/76 * 34/75\n",
    "\n",
    "# We can use permutations to perform this calculation more efficiently:\n",
    "\n",
    "seven_white = find_perm(40,7)\n",
    "total = find_perm(81,7)\n",
    "prob_seven_white = seven_white / total\n",
    "\n",
    "print \"The probability of choosing 7 white stones, assuming the stones are not replaced, is:\", \"%0.4f\" %prob_seven_white"
   ]
  },
  {
   "cell_type": "markdown",
   "metadata": {},
   "source": [
    "Q12. John is trying to persuade Jim to go to a Planet of the Apes movie marathon. Jim says that his chances of deciding to go are 60% if Karen isn't going. However, if she is going, then Jim's chances of going increase to 90%. Karen says that she hasn't made up her mind. She has said that, at this point, she is equally likely to go as to not go.\n",
    "\n",
    "What are the chances that Jim attends the marathon and Karen does not?"
   ]
  },
  {
   "cell_type": "code",
   "execution_count": null,
   "metadata": {
    "collapsed": false
   },
   "outputs": [],
   "source": [
    "# From the question, the probability of Jim attending changes *depending* on whether Karen does, or does not attend.\n",
    "# To get the probability of Jim attending AND Karen not attending correctly, we need to make use of the information we have \n",
    "# about the likelihood that Jim will attend, given the assumption that Karen will not. \n",
    "# We also need to incorporate detail provided about Karens chances of not going:\n",
    "\n",
    "# P(Jim, not Karen) = P(not Karen) * P(Jim | not Karen)\n",
    "\n",
    "Jim_and_not_Karen = 0.5 * 0.6   # Karen said go vs not go is equally likely. As these are the only options available to her, \n",
    "                                # there is a 50% chance she will not go.\n",
    "\n",
    "print \"The probability that Jim will attend the marathon, given that Karen does not attend is:\", \"%0.1f\" %Jim_and_not_Karen"
   ]
  },
  {
   "cell_type": "markdown",
   "metadata": {},
   "source": [
    "Q13. A puzzle store owner is waiting on a shipment of new puzzles to put on an event called Puzzle-palooza. There is a 60% chance that the stack of puzzles will arrive on time. If the puzzles don't arrive on time, there is a 20% chance that event can proceed.\n",
    "\n",
    "What are the chances that the event will be cancelled if the shipment doesn't arrive?"
   ]
  },
  {
   "cell_type": "code",
   "execution_count": null,
   "metadata": {
    "collapsed": false
   },
   "outputs": [],
   "source": [
    "# Instead of calculating probability of events A and B, we need to calculate probability of A given B (A | B)\n",
    "# Using logic, we can infer that probability of event A is equivelant to: (1 - not event A) \n",
    "# We don't need to incorporate probability info for the shipment arriving on time, as the question assumes it will not.\n",
    "\n",
    "# P(no Puzzle-palooza | no shipment) = 1 - P(Puzzle-palooza | no shipment)\n",
    "\n",
    "no_PP_given_no_shipment = 1 - 0.2\n",
    "\n",
    "print \"Chances of Puzzle-palooza being cancelled, given puzzles not arriving, is:\", \"{:.0%}\".format(no_PP_given_no_shipment)"
   ]
  },
  {
   "cell_type": "markdown",
   "metadata": {},
   "source": [
    "Q14. What are the chances of drawing the Queen of Diamonds from a normal 52 card playing deck if we have just flipped tails twice on two coin tosses, and rolled a 1 on ten-sided dice?"
   ]
  },
  {
   "cell_type": "code",
   "execution_count": null,
   "metadata": {
    "collapsed": false
   },
   "outputs": [],
   "source": [
    "# These probabilities are independent, so it doesn't matter what comes up on the coin tosses or dice rolls, \n",
    "# the likelihood of getting a Queen of Diamonds will remain the same as it otherwise would.\n",
    "\n",
    "# P(Queen_of_D's | 2Heads, 1_on_Dice) = P(Queen_of_D's) \n",
    "\n",
    "prob_QD = 1 / 52\n",
    "\n",
    "print \"Chances of drawing Queen of D's, given that we have both 2H's and 1 on 10-sided dice is:\", \"{:.0%}\".format(prob_QD)"
   ]
  },
  {
   "cell_type": "markdown",
   "metadata": {},
   "source": [
    "Q15. The probability of getting a rose is 1/4, and the probability of getting a carnation is 1/6. What are the chances of getting both a rose, given that you already have a carnation, if the probability of getting a rose and a carnation is 1/21?"
   ]
  },
  {
   "cell_type": "code",
   "execution_count": null,
   "metadata": {
    "collapsed": false
   },
   "outputs": [],
   "source": [
    "# To get the probability of getting a rose, given that you already have a carnation, rearrange the dependence formula:\n",
    "\n",
    "# P(R,C) = P(C) * P(R|C) rearranges to:\n",
    "# P(R|C) = P(R,C) / P(C)\n",
    "\n",
    "prob_r_and_c = 1 / 21                   \n",
    "prob_c = 1 / 6                      \n",
    "\n",
    "prob_r_given_c = prob_r_and_c / prob_c\n",
    "\n",
    "print \"Chances of getting a rose, given that you have a carnation is:\", \"%0.2f\" %prob_r_given_c"
   ]
  },
  {
   "cell_type": "code",
   "execution_count": null,
   "metadata": {
    "collapsed": true
   },
   "outputs": [],
   "source": []
  }
 ],
 "metadata": {
  "kernelspec": {
   "display_name": "Python 2",
   "language": "python",
   "name": "python2"
  },
  "language_info": {
   "codemirror_mode": {
    "name": "ipython",
    "version": 2
   },
   "file_extension": ".py",
   "mimetype": "text/x-python",
   "name": "python",
   "nbconvert_exporter": "python",
   "pygments_lexer": "ipython2",
   "version": "2.7.12"
  }
 },
 "nbformat": 4,
 "nbformat_minor": 0
}
